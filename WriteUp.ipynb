{
 "cells": [
  {
   "cell_type": "code",
   "execution_count": 1,
   "metadata": {},
   "outputs": [],
   "source": [
    "import codecs\n",
    "from collections import Counter\n",
    "import string\n",
    "from Crypto.Cipher import AES\n",
    "from Crypto import Random\n",
    "import random as rnd\n",
    "import time\n",
    "import hashlib\n",
    "import requests\n",
    "\n",
    "# those variables are used later in several problems so I just initialize them here.\n",
    "secret_key = Random.get_random_bytes(16)\n",
    "iv_secret = Random.get_random_bytes(16)\n",
    "secret_key_16_bits = Random.get_random_bytes(2)"
   ]
  },
  {
   "cell_type": "markdown",
   "metadata": {},
   "source": [
    "Copied from cryptopals.com\n",
    "## Crypto Challenge Set 1\n",
    "\n",
    "This is the qualifying set. We picked the exercises in it to ramp developers up gradually into coding cryptography, but also to verify that we were working with people who were ready to write code.\n",
    "\n",
    "This set is relatively easy. With one exception, most of these exercises should take only a couple minutes. But don't beat yourself up if it takes longer than that. It took Alex two weeks to get through the set!\n",
    "\n",
    "If you've written any crypto code in the past, you're going to feel like skipping a lot of this. Don't skip them. At least two of them (we won't say which) are important stepping stones to later attacks. "
   ]
  },
  {
   "cell_type": "markdown",
   "metadata": {},
   "source": [
    "\n",
    "Convert hex to base64\n",
    "\n",
    "The string:\n",
    "```\n",
    "49276d206b696c6c696e6720796f757220627261696e206c696b65206120706f69736f6e6f7573206d757368726f6f6d\n",
    "```\n",
    "Should produce:\n",
    "```\n",
    "SSdtIGtpbGxpbmcgeW91ciBicmFpbiBsaWtlIGEgcG9pc29ub3VzIG11c2hyb29t\n",
    "```\n",
    "So go ahead and make that happen. You'll need to use this code for the rest of the exercises.\n",
    "\n",
    "Cryptopals Rule\n",
    "```\n",
    "Always operate on raw bytes, never on encoded strings. Only use hex and base64 for pretty-printing.\n",
    "```"
   ]
  },
  {
   "cell_type": "code",
   "execution_count": 2,
   "metadata": {},
   "outputs": [
    {
     "data": {
      "text/plain": [
       "True"
      ]
     },
     "execution_count": 2,
     "metadata": {},
     "output_type": "execute_result"
    }
   ],
   "source": [
    "## Challenge 1 convert from hex to base64\n",
    "## This one is pretty straightforward\n",
    "input = \"49276d206b696c6c696e6720796f757220627261696e206c696b65206120706f69736f6e6f7573206d757368726f6f6d\"\n",
    "raw = codecs.decode(input, \"hex\")\n",
    "result = codecs.encode(raw,\"base64\")\n",
    "expected_result = \"SSdtIGtpbGxpbmcgeW91ciBicmFpbiBsaWtlIGEgcG9pc29ub3VzIG11c2hyb29t\"\n",
    "result.strip().decode('ascii') == expected_result"
   ]
  },
  {
   "cell_type": "markdown",
   "metadata": {},
   "source": [
    "\n",
    "Fixed XOR\n",
    "\n",
    "Write a function that takes two equal-length buffers and produces their XOR combination.\n",
    "\n",
    "If your function works properly, then when you feed it the string:\n",
    "\n",
    "1c0111001f010100061a024b53535009181c\n",
    "\n",
    "... after hex decoding, and when XOR'd against:\n",
    "\n",
    "686974207468652062756c6c277320657965\n",
    "\n",
    "... should produce:\n",
    "\n",
    "746865206b696420646f6e277420706c6179\n",
    "\n"
   ]
  },
  {
   "cell_type": "code",
   "execution_count": 7,
   "metadata": {},
   "outputs": [
    {
     "data": {
      "text/plain": [
       "True"
      ]
     },
     "execution_count": 7,
     "metadata": {},
     "output_type": "execute_result"
    }
   ],
   "source": [
    "## Challenge 2 FIxed XOR\n",
    "input1 = codecs.decode(\"1c0111001f010100061a024b53535009181c\",\"hex\")\n",
    "input2 = codecs.decode(\"686974207468652062756c6c277320657965\",\"hex\")\n",
    "\n",
    "def xor_string(string1,string2):\n",
    "    \"\"\" Receive two bytes strings and return the xor in them\n",
    "        The length of the output is the same as the shortest string\n",
    "    \"\"\"\n",
    "    return bytes(a ^ b for a, b in zip(string1, string2))\n",
    "\n",
    "expected_result = \"746865206b696420646f6e277420706c6179\"\n",
    "\n",
    "codecs.encode(xor_string(input1,input2),\"hex\").strip().decode('ascii') == expected_result"
   ]
  },
  {
   "cell_type": "code",
   "execution_count": null,
   "metadata": {},
   "outputs": [],
   "source": []
  },
  {
   "cell_type": "code",
   "execution_count": null,
   "metadata": {},
   "outputs": [],
   "source": []
  }
 ],
 "metadata": {
  "kernelspec": {
   "display_name": "Python 3",
   "language": "python",
   "name": "python3"
  },
  "language_info": {
   "codemirror_mode": {
    "name": "ipython",
    "version": 3
   },
   "file_extension": ".py",
   "mimetype": "text/x-python",
   "name": "python",
   "nbconvert_exporter": "python",
   "pygments_lexer": "ipython3",
   "version": "3.8.5"
  }
 },
 "nbformat": 4,
 "nbformat_minor": 4
}
