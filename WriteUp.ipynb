{
 "cells": [
  {
   "cell_type": "markdown",
   "metadata": {},
   "source": [
    "## Note: all challenges have been directly copied from cryptopals.com."
   ]
  },
  {
   "cell_type": "code",
   "execution_count": 1,
   "metadata": {},
   "outputs": [],
   "source": [
    "import codecs\n",
    "from collections import Counter\n",
    "import string\n",
    "from Crypto.Cipher import AES\n",
    "from Crypto import Random\n",
    "import random as rnd\n",
    "import time\n",
    "import hashlib\n",
    "import requests\n",
    "import os\n",
    "\n",
    "# those variables are used later in several problems so I just initialize them here.\n",
    "secret_key = Random.get_random_bytes(16)\n",
    "iv_secret = Random.get_random_bytes(16)\n",
    "secret_key_16_bits = Random.get_random_bytes(2)"
   ]
  },
  {
   "cell_type": "markdown",
   "metadata": {},
   "source": [
    "Copied from cryptopals.com\n",
    "## Crypto Challenge Set 1\n",
    "\n",
    "This is the qualifying set. We picked the exercises in it to ramp developers up gradually into coding cryptography, but also to verify that we were working with people who were ready to write code.\n",
    "\n",
    "This set is relatively easy. With one exception, most of these exercises should take only a couple minutes. But don't beat yourself up if it takes longer than that. It took Alex two weeks to get through the set!\n",
    "\n",
    "If you've written any crypto code in the past, you're going to feel like skipping a lot of this. Don't skip them. At least two of them (we won't say which) are important stepping stones to later attacks. "
   ]
  },
  {
   "cell_type": "markdown",
   "metadata": {},
   "source": [
    "\n",
    "## 1-Convert hex to base64\n",
    "\n",
    "The string:\n",
    "```\n",
    "49276d206b696c6c696e6720796f757220627261696e206c696b65206120706f69736f6e6f7573206d757368726f6f6d\n",
    "```\n",
    "Should produce:\n",
    "```\n",
    "SSdtIGtpbGxpbmcgeW91ciBicmFpbiBsaWtlIGEgcG9pc29ub3VzIG11c2hyb29t\n",
    "```\n",
    "So go ahead and make that happen. You'll need to use this code for the rest of the exercises.\n",
    "\n",
    "Cryptopals Rule\n",
    "```\n",
    "Always operate on raw bytes, never on encoded strings. Only use hex and base64 for pretty-printing.\n",
    "```"
   ]
  },
  {
   "cell_type": "code",
   "execution_count": 2,
   "metadata": {},
   "outputs": [
    {
     "data": {
      "text/plain": [
       "True"
      ]
     },
     "execution_count": 2,
     "metadata": {},
     "output_type": "execute_result"
    }
   ],
   "source": [
    "## Challenge 1 convert from hex to base64\n",
    "## This one is pretty straightforward\n",
    "input = \"49276d206b696c6c696e6720796f757220627261696e206c696b65206120706f69736f6e6f7573206d757368726f6f6d\"\n",
    "raw = codecs.decode(input, \"hex\")\n",
    "result = codecs.encode(raw,\"base64\")\n",
    "expected_result = \"SSdtIGtpbGxpbmcgeW91ciBicmFpbiBsaWtlIGEgcG9pc29ub3VzIG11c2hyb29t\"\n",
    "result.strip().decode('ascii') == expected_result"
   ]
  },
  {
   "cell_type": "markdown",
   "metadata": {},
   "source": [
    "\n",
    "## 2-Fixed XOR\n",
    "\n",
    "Write a function that takes two equal-length buffers and produces their XOR combination.\n",
    "\n",
    "If your function works properly, then when you feed it the string:\n",
    "\n",
    "1c0111001f010100061a024b53535009181c\n",
    "\n",
    "... after hex decoding, and when XOR'd against:\n",
    "\n",
    "686974207468652062756c6c277320657965\n",
    "\n",
    "... should produce:\n",
    "\n",
    "746865206b696420646f6e277420706c6179\n",
    "\n"
   ]
  },
  {
   "cell_type": "code",
   "execution_count": 3,
   "metadata": {},
   "outputs": [
    {
     "data": {
      "text/plain": [
       "True"
      ]
     },
     "execution_count": 3,
     "metadata": {},
     "output_type": "execute_result"
    }
   ],
   "source": [
    "## Challenge 2 FIxed XOR\n",
    "input1 = codecs.decode(\"1c0111001f010100061a024b53535009181c\",\"hex\")\n",
    "input2 = codecs.decode(\"686974207468652062756c6c277320657965\",\"hex\")\n",
    "\n",
    "def xor_string(string1,string2):\n",
    "    \"\"\" Receive two bytes strings and return the xor in them\n",
    "        The length of the output is the same as the shortest string\n",
    "    \"\"\"\n",
    "    return bytes(a ^ b for a, b in zip(string1, string2))\n",
    "\n",
    "expected_result = \"746865206b696420646f6e277420706c6179\"\n",
    "\n",
    "codecs.encode(xor_string(input1,input2),\"hex\").strip().decode('ascii') == expected_result"
   ]
  },
  {
   "cell_type": "markdown",
   "metadata": {},
   "source": [
    "## 3-Single-byte XOR cipher\n",
    "\n",
    "The hex encoded string:\n",
    "\n",
    "1b37373331363f78151b7f2b783431333d78397828372d363c78373e783a393b3736\n",
    "\n",
    "... has been XOR'd against a single character. Find the key, decrypt the message.\n",
    "\n",
    "You can do this by hand. But don't: write code to do it for you.\n",
    "\n",
    "How? Devise some method for \"scoring\" a piece of English plaintext. Character frequency is a good metric. Evaluate each output and choose the one with the best score.\n",
    "\n",
    "Achievement Unlocked\n",
    "\n",
    "You now have our permission to make \"ETAOIN SHRDLU\" jokes on Twitter.\n"
   ]
  },
  {
   "cell_type": "code",
   "execution_count": 4,
   "metadata": {},
   "outputs": [
    {
     "data": {
      "text/plain": [
       "b\"Cooking MC's like a pound of bacon\""
      ]
     },
     "execution_count": 4,
     "metadata": {},
     "output_type": "execute_result"
    }
   ],
   "source": [
    "## Challenge 3 xor single byte\n",
    "input1 = codecs.decode(\"1b37373331363f78151b7f2b783431333d78397828372d363c78373e783a393b3736\",\"hex\")\n",
    "\n",
    "#Here I'm using as an score of a piece of English plaintext not the character frequency but rather the fact\n",
    "#that the correct english phrase is more likely to have the most amount of words, this isn't valid in all cases,but worked in this one\n",
    "biggest = 0;\n",
    "biggest_character = '';\n",
    "for character in range(0,128):\n",
    "    output = xor_string(input1,bytes(chr(character)*len(input1),'ascii'))\n",
    "    if len(output.decode('ascii').split(' '))>biggest:\n",
    "        biggest = len(output.decode('ascii').split(' '))\n",
    "        biggest_character = character\n",
    "        \n",
    "output = xor_string(input1,bytes(chr(biggest_character)*len(input1),'ascii'))\n",
    "output"
   ]
  },
  {
   "cell_type": "markdown",
   "metadata": {},
   "source": [
    "## 4-Detect single-character XOR\n",
    "\n",
    "One of the 60-character strings in this file has been encrypted by single-character XOR.\n",
    "\n",
    "Find it.\n",
    "\n",
    "(Your code from #3 should help.)"
   ]
  },
  {
   "cell_type": "code",
   "execution_count": 5,
   "metadata": {},
   "outputs": [
    {
     "name": "stdout",
     "output_type": "stream",
     "text": [
      "b'Now that the party is jumping\\n'\n"
     ]
    }
   ],
   "source": [
    "## Challenge 4 find encoded string in file\n",
    "\n",
    "lines = open('4.txt', 'r').readlines()\n",
    "\n",
    "## I'm gonna use the same logic from the 3rd problem and see the line with the most amont of words\n",
    "longest_line =\"\"\n",
    "global_longest = 0;\n",
    "\n",
    "for line in lines:\n",
    "    line_raw = codecs.decode(line.strip(),'hex')\n",
    "    biggest = 0;\n",
    "    biggest_character = 0;\n",
    "    for character in range(0,128):\n",
    "        output = xor_string(line_raw,bytes(len(line_raw)*chr(character),'ascii'))\n",
    "        flag = False;\n",
    "        for i in output:\n",
    "            if i>=128: # if output is not in ascii then it's not an english sentence\n",
    "                flag = True;\n",
    "        \n",
    "        if flag:\n",
    "            continue\n",
    "        \n",
    "        if len(output.decode('ascii').split(' '))>biggest: ## compare between characters in the line\n",
    "            biggest = len(output.decode('ascii').split(' '))\n",
    "            biggest_character = character;\n",
    "            \n",
    "        if biggest>global_longest: ## compare between all lines\n",
    "            global_longest=biggest;\n",
    "            longest_line = output;\n",
    "\n",
    "print(longest_line)"
   ]
  },
  {
   "cell_type": "markdown",
   "metadata": {},
   "source": [
    "## 5-Implement repeating-key XOR\n",
    "\n",
    "Here is the opening stanza of an important work of the English language:\n",
    "```\n",
    "Burning 'em, if you ain't quick and nimble\n",
    "I go crazy when I hear a cymbal\n",
    "```\n",
    "Encrypt it, under the key \"ICE\", using repeating-key XOR.\n",
    "\n",
    "In repeating-key XOR, you'll sequentially apply each byte of the key; the first byte of plaintext will be XOR'd against I, the next C, the next E, then I again for the 4th byte, and so on.\n",
    "\n",
    "It should come out to:\n",
    "\n",
    "0b3637272a2b2e63622c2e69692a23693a2a3c6324202d623d63343c2a26226324272765272\n",
    "a282b2f20430a652e2c652a3124333a653e2b2027630c692b20283165286326302e27282f\n",
    "\n",
    "Encrypt a bunch of stuff using your repeating-key XOR function. Encrypt your mail. Encrypt your password file. Your .sig file. Get a feel for it. I promise, we aren't wasting your time with this.\n"
   ]
  },
  {
   "cell_type": "code",
   "execution_count": 6,
   "metadata": {},
   "outputs": [
    {
     "data": {
      "text/plain": [
       "True"
      ]
     },
     "execution_count": 6,
     "metadata": {},
     "output_type": "execute_result"
    }
   ],
   "source": [
    "## Challenge 5 repeating key xor\n",
    "\n",
    "#def repeating_xor(input1,key):\n",
    "#    output = b''\n",
    "#    while len(input1)>0:\n",
    "#        output += xor_string(input1,key) \n",
    "#        input1 = input1[len(key):]\n",
    "#    return output\n",
    "\n",
    "# this one is a little bit faster, although the other function is easier to read and uses previous functions\n",
    "def repeating_xor(input1,key):\n",
    "    output=[]\n",
    "    for s in range(0,len(input1)):\n",
    "        output.append(input1[s] ^ key[s % len(key)])\n",
    "    return bytes(output)\n",
    "\n",
    "\n",
    "input1 = \"Burning 'em, if you ain't quick and nimble\"\n",
    "key = \"ICE\"\n",
    "input2 = \"I go crazy when I hear a cymbal\"\n",
    "\n",
    "input3 = input1+ '\\n' +input2;\n",
    "result1 = repeating_xor(bytes(input1,'ascii'),bytes(key,'ascii'))\n",
    "result2 = repeating_xor(bytes(input2,'ascii'),bytes(key,'ascii'))\n",
    "result3 = repeating_xor(bytes(input3,'ascii'),bytes(key,'ascii'))\n",
    "\n",
    "expected1 = \"0b3637272a2b2e63622c2e69692a23693a2a3c6324202d623d63343c2a26226324272765272\"\n",
    "expected2 = \"a282b2f20430a652e2c652a3124333a653e2b2027630c692b20283165286326302e27282f\"\n",
    "\n",
    "codecs.encode(result3,'hex').decode('ascii') == expected1 + expected2"
   ]
  },
  {
   "cell_type": "markdown",
   "metadata": {},
   "source": [
    "## 6-Break repeating-key XOR\n",
    "```\n",
    "It is officially on, now.\n",
    "\n",
    "This challenge isn't conceptually hard, but it involves actual error-prone coding. The other challenges in this set are there to bring you up to speed. This one is there to qualify you. If you can do this one, you're probably just fine up to Set 6.\n",
    "```\n",
    "\n",
    "There's a file here. It's been base64'd after being encrypted with repeating-key XOR.\n",
    "\n",
    "Decrypt it.\n",
    "\n",
    "Here's how:\n",
    "\n",
    "1. Let KEYSIZE be the guessed length of the key; try values from 2 to (say) 40.\n",
    "2. Write a function to compute the edit distance/Hamming distance between two strings. The Hamming distance is just the number of differing bits. The distance between:\n",
    "```\n",
    "    this is a test\n",
    "```\n",
    "    and\n",
    "```\n",
    "    wokka wokka!!!\n",
    "```\n",
    "is 37. Make sure your code agrees before you proceed.\n",
    "3. For each KEYSIZE, take the first KEYSIZE worth of bytes, and the second KEYSIZE worth of bytes, and find the edit distance between them. Normalize this result by dividing by KEYSIZE.\n",
    "4. The KEYSIZE with the smallest normalized edit distance is probably the key. You could proceed perhaps with the smallest 2-3 KEYSIZE values. Or take 4 KEYSIZE blocks instead of 2 and average the distances.\n",
    "5. Now that you probably know the KEYSIZE: break the ciphertext into blocks of KEYSIZE length.\n",
    "6. Now transpose the blocks: make a block that is the first byte of every block, and a block that is the second byte of every block, and so on.\n",
    "7. Solve each block as if it was single-character XOR. You already have code to do this.\n",
    "8. For each block, the single-byte XOR key that produces the best looking histogram is the repeating-key XOR key byte for that block. Put them together and you have the key.\n",
    "\n",
    "This code is going to turn out to be surprisingly useful later on. Breaking repeating-key XOR (\"Vigenere\") statistically is obviously an academic exercise, a \"Crypto 101\" thing. But more people \"know how\" to break it than can actually break it, and a similar technique breaks something much more important.\n",
    "```\n",
    "No, that's not a mistake.\n",
    "\n",
    "We get more tech support questions for this challenge than any of the other ones. We promise, there aren't any blatant errors in this text. In particular: the \"wokka wokka!!!\" edit distance really is 37.\n",
    "```"
   ]
  },
  {
   "cell_type": "code",
   "execution_count": 7,
   "metadata": {},
   "outputs": [
    {
     "data": {
      "text/plain": [
       "{0: 'Terminator X: Bring the noise',\n",
       " 1: '\\x00\\x00B\\x1e\\x04U\\x00`H\\x00e\\x1ee\\x1a\\x01}v\\x07VS\\x06\\x06\\x0b|P',\n",
       " 2: 'OBuiT\\x00e\\x00eNq\\x00BlesNTOaVs\\x00IYfTFRe\\x11f`:et\\x1aOsi',\n",
       " 3: 'e\\x16lNRrgOn\\x07[R{e\\x06lOa\\x1c\\x00\\x06RiT\\x11\\x00\\x06U`RnE\\x06'}"
      ]
     },
     "execution_count": 7,
     "metadata": {},
     "output_type": "execute_result"
    }
   ],
   "source": [
    "## Challenge 6. Break a repeating xor key( aka Vigenere cypher)\n",
    "## this is the most challeging exercise so far, but they broke it down step by step so lets follow them\n",
    "\n",
    "# 2 - Write a function to compute the edit distance/Hamming distance between two strings\n",
    "# There are probably faster applications of this function in wikipedia\n",
    "def hamming_distance(bytes1,bytes2):\n",
    "    after_xor = xor_string(bytes1,bytes2); #xor so that the different bits will became '1'\n",
    "    return bin(int.from_bytes(after_xor,'little')).count('1') #count the number of '1' bits on the resulting string\n",
    "\n",
    "#test is the hamming function works as intended;\n",
    "input1 = \"this is a test\"\n",
    "input2 = \"wokka wokka!!!\"\n",
    "assert hamming_distance(bytes(input1,'ascii'),bytes(input2,'ascii')) == 37\n",
    "\n",
    "raw_file = open('6.txt','rb').read()\n",
    "raw_file_decoded = codecs.decode(raw_file, \"base64\")\n",
    "\n",
    "#3- For each KEYSIZE, take the first KEYSIZE worth of bytes, and the second KEYSIZE worth of bytes, and find the edit \n",
    "#distance between them. Normalize this result by dividing by KEYSIZE.\n",
    "keysizes = [] #it's gonna be an array of tuples\n",
    "for keysize in range(2,41):\n",
    "    distances = []\n",
    "    pieces = [raw_file_decoded[i:i+keysize] for i in range(0,len(raw_file_decoded),keysize)] #split the file in pieces of size keysize\n",
    "    \n",
    "    for i in range(0,len(pieces),2):\n",
    "        if i+1<len(pieces): #if there are at least two pieces remaining\n",
    "            distances.append(hamming_distance(pieces[i],pieces[i+1])/keysize) # calculate hamming distance and normalize\n",
    "    \n",
    "    distance = sum(distances)/len(distances); #average\n",
    "    keysizes.append((keysize,distance))\n",
    "            \n",
    "            \n",
    "#4 - The KEYSIZE with the smallest normalized edit distance is probably the key. You could proceed perhaps with the\n",
    "#smallest 2-3 KEYSIZE values. Or take 4 KEYSIZE blocks instead of 2 and average the distances.\n",
    "keysizes_sorted = sorted(keysizes,key=lambda tup: tup[1])\n",
    "keysizes_selected = [a[0] for a in keysizes_sorted[:4]]\n",
    "\n",
    "#5- Now that you probably know the KEYSIZE: break the ciphertext into blocks of KEYSIZE length.\n",
    "#6 -Now transpose the blocks: make a block that is the first byte of every block, and a block that is the second byte of every block, and so on.\n",
    "def GetNthLetters(text, position, keysize,debug=False):\n",
    "    builtarray = []\n",
    "    for i in range(position ,len(text),keysize):\n",
    "        builtarray.append(text[i]);\n",
    "    return bytes(builtarray)\n",
    "\n",
    "blocks = [] #blocks is a 3-dimension matrix in which de indices(i,j) point to a byte sequence\n",
    "\n",
    "for i in range(0,len(keysizes_selected)):\n",
    "    blocks.append([])\n",
    "    for j in range(0,keysizes_selected[i]):\n",
    "        blocks[i].append(GetNthLetters(raw_file_decoded,j,keysizes_selected[i]))\n",
    "        \n",
    "#7-Solve each block as if it was single-character XOR. You already have code to do this.\n",
    "\n",
    "# my idea to find text based on number of words don't work anymore in this case.\n",
    "# I got this function from https://laconicwolf.com/2018/06/05/cryptopals-challenge-4-detect-single-character-xor-encryption/ for letter frequency\n",
    "def get_english_score(input_bytes):\n",
    "    \"\"\"Compares each input byte to a character frequency \n",
    "    chart and returns the score of a message based on the\n",
    "    relative frequency the characters occur in the English\n",
    "    language\n",
    "    \"\"\"\n",
    "\n",
    "    # From https://en.wikipedia.org/wiki/Letter_frequency\n",
    "    # with the exception of ' ', which I estimated.\n",
    "    character_frequencies = {\n",
    "        'a': .08167, 'b': .01492, 'c': .02782, 'd': .04253,\n",
    "        'e': .12702, 'f': .02228, 'g': .02015, 'h': .06094,\n",
    "        'i': .06094, 'j': .00153, 'k': .00772, 'l': .04025,\n",
    "        'm': .02406, 'n': .06749, 'o': .07507, 'p': .01929,\n",
    "        'q': .00095, 'r': .05987, 's': .06327, 't': .09056,\n",
    "        'u': .02758, 'v': .00978, 'w': .02360, 'x': .00150,\n",
    "        'y': .01974, 'z': .00074, ' ': .13000, '@': -50000,\n",
    "        '^': -50000, '#': -50000, '&': -50000, '~': -50000\n",
    "    }\n",
    "    pontuacao = sum([character_frequencies.get(chr(byte), 0) for byte in input_bytes.lower()])\n",
    "    return pontuacao\n",
    "\n",
    "def find_letter_xor(input1,byte=False):\n",
    "    \"\"\"Find the single byte xor_cypher that is most likely to be correct\n",
    "        if byte = True, the input is treated as an byte string, otherwise, like ascii text\n",
    "    \"\"\"\n",
    "    highest_score = 0;\n",
    "    highest_character = 0;\n",
    "    loop = 128\n",
    "    if byte:\n",
    "        loop=256\n",
    "        \n",
    "    for character in range(0,loop):\n",
    "        if byte:\n",
    "            after_xor = xor_string(input1,len(input1)*int.to_bytes(character,1,'little'))\n",
    "        else:\n",
    "            after_xor = xor_string(input1,bytes(len(input1)*chr(character),'ascii'))\n",
    "        score = get_english_score(after_xor);\n",
    "        \n",
    "        if score>highest_score:\n",
    "            highest_score = score\n",
    "            highest_character = character\n",
    "    \n",
    "    if byte:\n",
    "        return highest_character\n",
    "    \n",
    "    return chr(highest_character)\n",
    "\n",
    "#8-For each block, the single-byte XOR key that produces the best looking histogram is the repeating-key XOR key byte for that block. Put them together and you have the key.\n",
    "keys = {} #array of strings\n",
    "for i in range(0,len(keysizes_selected)):\n",
    "    keys[i] = \"\"\n",
    "    for j in range(0,keysizes_selected[i]):\n",
    "        keys[i] += find_letter_xor(blocks[i][j]);\n",
    "        \n",
    "keys"
   ]
  },
  {
   "cell_type": "markdown",
   "metadata": {},
   "source": [
    "## 7-AES in ECB mode\n",
    "\n",
    "The Base64-encoded content in this file has been encrypted via AES-128 in ECB mode under the key\n",
    "```\n",
    "\"YELLOW SUBMARINE\".\n",
    "```\n",
    "(case-sensitive, without the quotes; exactly 16 characters; I like \"YELLOW SUBMARINE\" because it's exactly 16 bytes long, and now you do too).\n",
    "\n",
    "Decrypt it. You know the key, after all.\n",
    "\n",
    "Easiest way: use OpenSSL::Cipher and give it AES-128-ECB as the cipher.\n",
    "```\n",
    "Do this with code.\n",
    "\n",
    "You can obviously decrypt this using the OpenSSL command-line tool, but we're having you get ECB working in code for a reason. You'll need it a lot later on, and not just for attacking ECB.\n",
    "```"
   ]
  },
  {
   "cell_type": "code",
   "execution_count": 8,
   "metadata": {},
   "outputs": [
    {
     "name": "stdout",
     "output_type": "stream",
     "text": [
      "I'm back and I'm ringin' the bell \n",
      "A rockin' on the mike while the fly girls yell \n",
      "In ecstasy in the back of me \n",
      "Well that's my DJ Deshay cuttin' all them Z's \n",
      "Hittin' hard and the girlies goin' crazy \n",
      "Vanilla's on the mike, man I'm not lazy. \n",
      "\n",
      "I'm lettin' my drug kick in \n",
      "It controls my mouth and I begin \n",
      "To just let it flow, let my concepts go \n",
      "My posse's to the side yellin', Go Vanilla Go! \n",
      "\n",
      "Smooth 'cause that's the way I will be \n",
      "And if you don't give a damn, then \n",
      "Why you starin' at me \n",
      "So get off 'cause I control the stage \n",
      "There's no dissin' allowed \n",
      "I'm in my own phase \n",
      "The girlies sa y they love me and that is ok \n",
      "And I can dance better than any kid n' play \n",
      "\n",
      "Stage 2 -- Yea the one ya' wanna listen to \n",
      "It's off my head so let the beat play through \n",
      "So I can funk it up and make it sound good \n",
      "1-2-3 Yo -- Knock on some wood \n",
      "For good luck, I like my rhymes atrocious \n",
      "Supercalafragilisticexpialidocious \n",
      "I'm an effect and that you can bet \n",
      "I can take a fly girl and make her wet. \n",
      "\n",
      "I'm like Samson -- Samson to Delilah \n",
      "There's no denyin', You can try to hang \n",
      "But you'll keep tryin' to get my style \n",
      "Over and over, practice makes perfect \n",
      "But not if you're a loafer. \n",
      "\n",
      "You'll get nowhere, no place, no time, no girls \n",
      "Soon -- Oh my God, homebody, you probably eat \n",
      "Spaghetti with a spoon! Come on and say it! \n",
      "\n",
      "VIP. Vanilla Ice yep, yep, I'm comin' hard like a rhino \n",
      "Intoxicating so you stagger like a wino \n",
      "So punks stop trying and girl stop cryin' \n",
      "Vanilla Ice is sellin' and you people are buyin' \n",
      "'Cause why the freaks are jockin' like Crazy Glue \n",
      "Movin' and groovin' trying to sing along \n",
      "All through the ghetto groovin' this here song \n",
      "Now you're amazed by the VIP posse. \n",
      "\n",
      "Steppin' so hard like a German Nazi \n",
      "Startled by the bases hittin' ground \n",
      "There's no trippin' on mine, I'm just gettin' down \n",
      "Sparkamatic, I'm hangin' tight like a fanatic \n",
      "You trapped me once and I thought that \n",
      "You might have it \n",
      "So step down and lend me your ear \n",
      "'89 in my time! You, '90 is my year. \n",
      "\n",
      "You're weakenin' fast, YO! and I can tell it \n",
      "Your body's gettin' hot, so, so I can smell it \n",
      "So don't be mad and don't be sad \n",
      "'Cause the lyrics belong to ICE, You can call me Dad \n",
      "You're pitchin' a fit, so step back and endure \n",
      "Let the witch doctor, Ice, do the dance to cure \n",
      "So come up close and don't be square \n",
      "You wanna battle me -- Anytime, anywhere \n",
      "\n",
      "You thought that I was weak, Boy, you're dead wrong \n",
      "So come on, everybody and sing this song \n",
      "\n",
      "Say -- Play that funky music Say, go white boy, go white boy go \n",
      "play that funky music Go white boy, go white boy, go \n",
      "Lay down and boogie and play that funky music till you die. \n",
      "\n",
      "Play that funky music Come on, Come on, let me hear \n",
      "Play that funky music white boy you say it, say it \n",
      "Play that funky music A little louder now \n",
      "Play that funky music, white boy Come on, Come on, Come on \n",
      "Play that funky music \n",
      "\u0004\u0004\u0004\u0004\n"
     ]
    }
   ],
   "source": [
    "# Challenge 7 AES-128 in ecb mode \n",
    "# ECB is the mode where each block is encrypted/decrypted separately.\n",
    "# This one is pretty straightforward, just got to use the AES object from the Crypto.cypher module\n",
    "key = \"YELLOW SUBMARINE\"\n",
    "algo = AES.new(bytes(key,'ascii'),AES.MODE_ECB)\n",
    "\n",
    "raw_file = codecs.decode(open('7.txt','rb').read(),\"base64\")\n",
    "print(algo.decrypt(raw_file).decode('ascii'))"
   ]
  },
  {
   "cell_type": "markdown",
   "metadata": {},
   "source": [
    "## 8-Detect AES in ECB mode\n",
    "\n",
    "In this file are a bunch of hex-encoded ciphertexts.\n",
    "\n",
    "One of them has been encrypted with ECB.\n",
    "\n",
    "Detect it.\n",
    "\n",
    "Remember that the problem with ECB is that it is stateless and deterministic; the same 16 byte plaintext block will always produce the same 16 byte ciphertext.\n"
   ]
  },
  {
   "cell_type": "code",
   "execution_count": 9,
   "metadata": {},
   "outputs": [
    {
     "data": {
      "text/plain": [
       "[(132, 3), (0, 0)]"
      ]
     },
     "execution_count": 9,
     "metadata": {},
     "output_type": "execute_result"
    }
   ],
   "source": [
    "## Challenge 8 Detect AES-128 ecb in file\n",
    "# This is pretty simple, given the property of ECB given above, it's safe to assume that in an long enough\n",
    "# series of data an ECB encryption will eventually repeat some blocks. If we count the number of repeted blocks\n",
    "# we can guess which cyphertext used ECB\n",
    "\n",
    "def detect_repetitions(cyphertext,keysize):\n",
    "    number_of_repetitions = 0\n",
    "    for a in range(0,keysize):\n",
    "        pieces = [cyphertext[(i+a):(i+keysize+a)] for i in range(0,len(cyphertext),keysize)]\n",
    "        number_of_repetitions += (len(pieces) - len(set(pieces)))\n",
    "    return number_of_repetitions\n",
    "\n",
    "raw_file = open('8.txt','rb').readlines()\n",
    "cyphertexts = [codecs.decode(cyphertext.strip(),'hex') for cyphertext in raw_file]\n",
    "\n",
    "repetitions = []\n",
    "for a in range(0,len(cyphertexts)):\n",
    "    number_of_repetitions = detect_repetitions(cyphertexts[a],16)\n",
    "    repetitions.append((a,number_of_repetitions))\n",
    "    \n",
    "repetitions_sorted = sorted(repetitions,key=lambda tup: tup[1],reverse=True)\n",
    "# They haven't given a way to verify which one is the actual answer, but only one cyphertext\n",
    "# had repetitions at all.\n",
    "repetitions_sorted[:2]"
   ]
  },
  {
   "cell_type": "markdown",
   "metadata": {},
   "source": [
    "# Crypto Challenge Set 2\n",
    "\n",
    "This is the first of several sets on block cipher cryptography. This is bread-and-butter crypto, the kind you'll see implemented in most web software that does crypto.\n",
    "\n",
    "This set is relatively easy. People that clear set 1 tend to clear set 2 somewhat quickly.\n",
    "\n",
    "Three of the challenges in this set are extremely valuable in breaking real-world crypto; one allows you to decrypt messages encrypted in the default mode of AES, and the other two allow you to rewrite messages encrypted in the most popular modes of AES. "
   ]
  },
  {
   "cell_type": "markdown",
   "metadata": {},
   "source": [
    "## 9-Implement PKCS#7 padding\n",
    "\n",
    "A block cipher transforms a fixed-sized block (usually 8 or 16 bytes) of plaintext into ciphertext. But we almost never want to transform a single block; we encrypt irregularly-sized messages.\n",
    "\n",
    "One way we account for irregularly-sized messages is by padding, creating a plaintext that is an even multiple of the blocksize. The most popular padding scheme is called PKCS#7.\n",
    "\n",
    "So: pad any block to a specific block length, by appending the number of bytes of padding to the end of the block. For instance,\n",
    "```\n",
    "\"YELLOW SUBMARINE\"\n",
    "```\n",
    "... padded to 20 bytes would be:\n",
    "```\n",
    "\"YELLOW SUBMARINE\\x04\\x04\\x04\\x04\"\n",
    "```\n"
   ]
  },
  {
   "cell_type": "code",
   "execution_count": 10,
   "metadata": {},
   "outputs": [
    {
     "name": "stdout",
     "output_type": "stream",
     "text": [
      "b'YELLOW SUBMARINE\\x04\\x04\\x04\\x04'\n"
     ]
    },
    {
     "data": {
      "text/plain": [
       "b'YELLOW SUBMARINE'"
      ]
     },
     "execution_count": 10,
     "metadata": {},
     "output_type": "execute_result"
    }
   ],
   "source": [
    "## Challenge 9 Implement PKCS#7 padding\n",
    "\n",
    "def pkcs_padding(text,size):\n",
    "    padding_size = size-len(text);\n",
    "    if padding_size<0:\n",
    "        raise ValueError('Block smaller than text')\n",
    "    padding = padding_size*chr(padding_size);\n",
    "    return text+bytes(padding,'ascii')\n",
    "\n",
    "def pkcs_padding_long(text,size):\n",
    "    \"\"\"Apply pkcs padding to an string of any length\n",
    "       Size is the blocksize.\n",
    "    \"\"\"\n",
    "    pieces = [text[i:i+size] for i in range(0,len(text),size)]\n",
    "    pieces[-1] = pkcs_padding(pieces[-1],size)\n",
    "    return b''.join(pieces)\n",
    "    \n",
    "def pkcs_unpadding(text,size):\n",
    "    padding_size = int(text[-1]);\n",
    "    padding = text[(size-padding_size):];\n",
    "    if len(set(padding))==1:\n",
    "        return text[:(size-padding_size)];\n",
    "    else:\n",
    "        return text\n",
    "        \n",
    "def pkcs_unpadding_long(text,size):\n",
    "    \"\"\"Remove pkcs padding from an string of any length\n",
    "        Size is the blocksize.\n",
    "    \"\"\"\n",
    "    pieces = [text[i:i+size] for i in range(0,len(text),size)]\n",
    "    pieces[-1] = pkcs_unpadding(pieces[-1],size)\n",
    "    return b''.join(pieces)\n",
    "    \n",
    "input1 = \"YELLOW SUBMARINE\"\n",
    "output1 = pkcs_padding_long(bytes(input1,'ascii'),20)\n",
    "print(output1)\n",
    "pkcs_unpadding_long(output1,20)"
   ]
  },
  {
   "cell_type": "markdown",
   "metadata": {},
   "source": [
    "## 10 - Implement CBC mode\n",
    "\n",
    "CBC mode is a block cipher mode that allows us to encrypt irregularly-sized messages, despite the fact that a block cipher natively only transforms individual blocks.\n",
    "\n",
    "In CBC mode, each ciphertext block is added to the next plaintext block before the next call to the cipher core.\n",
    "\n",
    "The first plaintext block, which has no associated previous ciphertext block, is added to a \"fake 0th ciphertext block\" called the initialization vector, or IV.\n",
    "\n",
    "Implement CBC mode by hand by taking the ECB function you wrote earlier, making it encrypt instead of decrypt (verify this by decrypting whatever you encrypt to test), and using your XOR function from the previous exercise to combine them.\n",
    "\n",
    "The file here is intelligible (somewhat) when CBC decrypted against \"YELLOW SUBMARINE\" with an IV of all ASCII 0 (\\x00\\x00\\x00 &c)\n",
    "\n",
    "\n",
    ">***Don't cheat***.\n",
    ">\n",
    ">***Do not use OpenSSL's CBC code to do CBC mode, even to verify your results***. What's the point of even doing this stuff if you aren't going to learn from it?\n"
   ]
  },
  {
   "cell_type": "markdown",
   "metadata": {},
   "source": [
    "Note: This block here is not a part of the question, it's just an comment of mine.\n",
    "\n",
    "Here are some diagrams that I found useful when making the code. They're from Wikipedia\n",
    "\n",
    "![](cbc_encrypt.png)\n",
    "![](cbc_decrypt.jpg)"
   ]
  },
  {
   "cell_type": "code",
   "execution_count": 11,
   "metadata": {},
   "outputs": [
    {
     "name": "stdout",
     "output_type": "stream",
     "text": [
      "b\"I'm back and I'm ringin' the bell \\nA rockin' on the mike while the fly girls yell \\nIn ecstasy in the back of me \\nWell that's my DJ Deshay cuttin' all them Z's \\nHittin' hard and the girlies goin' crazy \\nVanilla's on the mike, man I'm not lazy. \\n\\nI'm lettin' my drug kick in \\nIt controls my mouth and I begin \\nTo just let it flow, let my concepts go \\nMy posse's to the side yellin', Go Vanilla Go! \\n\\nSmooth 'cause that's the way I will be \\nAnd if you don't give a damn, then \\nWhy you starin' at me \\nSo get off 'cause I control the stage \\nThere's no dissin' allowed \\nI'm in my own phase \\nThe girlies sa y they love me and that is ok \\nAnd I can dance better than any kid n' play \\n\\nStage 2 -- Yea the one ya' wanna listen to \\nIt's off my head so let the beat play through \\nSo I can funk it up and make it sound good \\n1-2-3 Yo -- Knock on some wood \\nFor good luck, I like my rhymes atrocious \\nSupercalafragilisticexpialidocious \\nI'm an effect and that you can bet \\nI can take a fly girl and make her wet. \\n\\nI'm like Samson -- Samson to Delilah \\nThere's no denyin', You can try to hang \\nBut you'll keep tryin' to get my style \\nOver and over, practice makes perfect \\nBut not if you're a loafer. \\n\\nYou'll get nowhere, no place, no time, no girls \\nSoon -- Oh my God, homebody, you probably eat \\nSpaghetti with a spoon! Come on and say it! \\n\\nVIP. Vanilla Ice yep, yep, I'm comin' hard like a rhino \\nIntoxicating so you stagger like a wino \\nSo punks stop trying and girl stop cryin' \\nVanilla Ice is sellin' and you people are buyin' \\n'Cause why the freaks are jockin' like Crazy Glue \\nMovin' and groovin' trying to sing along \\nAll through the ghetto groovin' this here song \\nNow you're amazed by the VIP posse. \\n\\nSteppin' so hard like a German Nazi \\nStartled by the bases hittin' ground \\nThere's no trippin' on mine, I'm just gettin' down \\nSparkamatic, I'm hangin' tight like a fanatic \\nYou trapped me once and I thought that \\nYou might have it \\nSo step down and lend me your ear \\n'89 in my time! You, '90 is my year. \\n\\nYou're weakenin' fast, YO! and I can tell it \\nYour body's gettin' hot, so, so I can smell it \\nSo don't be mad and don't be sad \\n'Cause the lyrics belong to ICE, You can call me Dad \\nYou're pitchin' a fit, so step back and endure \\nLet the witch doctor, Ice, do the dance to cure \\nSo come up close and don't be square \\nYou wanna battle me -- Anytime, anywhere \\n\\nYou thought that I was weak, Boy, you're dead wrong \\nSo come on, everybody and sing this song \\n\\nSay -- Play that funky music Say, go white boy, go white boy go \\nplay that funky music Go white boy, go white boy, go \\nLay down and boogie and play that funky music till you die. \\n\\nPlay that funky music Come on, Come on, let me hear \\nPlay that funky music white boy you say it, say it \\nPlay that funky music A little louder now \\nPlay that funky music, white boy Come on, Come on, Come on \\nPlay that funky music \\n\"\n"
     ]
    },
    {
     "data": {
      "text/plain": [
       "b\"Dancin', Dancin', Dancin'\\nCome on, come on, come on everybody\\nCome on, come on everybody\\nCome on everybody, come on, come on everybody\\nCome on, come on everybody\\nLet's do this dance\""
      ]
     },
     "execution_count": 11,
     "metadata": {},
     "output_type": "execute_result"
    }
   ],
   "source": [
    "## Challenge 10 Implement CBC mode\n",
    "\n",
    "def cbc_encrypt_manual(cleartext,key,iv):\n",
    "    pieces = [cleartext[i:i+len(key)] for i in range(0,len(cleartext),len(key))]\n",
    "    pieces[-1] = pkcs_padding(pieces[-1],len(key));\n",
    "    algo = AES.new(key,AES.MODE_ECB);\n",
    "\n",
    "    previous = iv;\n",
    "    cyphertext = b'';\n",
    "    for i in range(0,len(pieces)):\n",
    "        input1 = xor_string(pieces[i],previous);\n",
    "        output1 = algo.encrypt(input1);\n",
    "        previous = output1;\n",
    "        cyphertext += output1\n",
    "        \n",
    "    return cyphertext\n",
    "\n",
    "def cbc_decrypt_manual(cyphertext,key,iv,padding=True):\n",
    "    pieces = [cyphertext[i:i+len(key)] for i in range(0,len(cyphertext),len(key))]\n",
    "    pieces[-1] = pkcs_padding(pieces[-1],len(key));\n",
    "    algoritmo = AES.new(key,AES.MODE_ECB);\n",
    "\n",
    "    previous = iv;\n",
    "    cleartext = b'';\n",
    "    for i in range(0,len(pieces)):\n",
    "        block_output = algoritmo.decrypt(pieces[i]);\n",
    "        output = xor_string(block_output,previous);\n",
    "        previous = pieces[i];\n",
    "        cleartext += output\n",
    "    \n",
    "    if padding:\n",
    "        return pkcs_unpadding_long(cleartext,len(key))\n",
    "    else:\n",
    "        return cleartext\n",
    "        \n",
    "raw_file = open('10.txt','rb').read()\n",
    "raw_file = codecs.decode(raw_file,'base64')\n",
    "key = b\"YELLOW SUBMARINE\"\n",
    "iv = b'\\x00'*len(key)\n",
    "\n",
    "result = cbc_decrypt_manual(raw_file,key,iv)\n",
    "print(result)\n",
    "\n",
    "#this is just to test if my encryption function also works. \n",
    "test = b\"Dancin', Dancin', Dancin'\\nCome on, come on, come on everybody\\nCome on, come on everybody\\nCome on everybody, come on, come on everybody\\nCome on, come on everybody\\nLet's do this dance\"\n",
    "cbc_decrypt_manual(cbc_encrypt_manual(test,key,iv),key,iv)"
   ]
  },
  {
   "cell_type": "markdown",
   "metadata": {},
   "source": [
    "## 11- An ECB/CBC detection oracle\n",
    "\n",
    "Now that you have ECB and CBC working:\n",
    "\n",
    "Write a function to generate a random AES key; that's just 16 random bytes.\n",
    "\n",
    "Write a function that encrypts data under an unknown key --- that is, a function that generates a random key and encrypts under it.\n",
    "\n",
    "The function should look like:\n",
    "```\n",
    "encryption_oracle(your-input)\n",
    "=> [MEANINGLESS JIBBER JABBER]\n",
    "```\n",
    "Under the hood, have the function append 5-10 bytes (count chosen randomly) before the plaintext and 5-10 bytes after the plaintext.\n",
    "\n",
    "Now, have the function choose to encrypt under ECB 1/2 the time, and under CBC the other half (just use random IVs each time for CBC). Use rand(2) to decide which to use.\n",
    "\n",
    "Detect the block cipher mode the function is using each time. You should end up with a piece of code that, pointed at a block box that might be encrypting ECB or CBC, tells you which one is happening.\n"
   ]
  },
  {
   "cell_type": "code",
   "execution_count": 14,
   "metadata": {},
   "outputs": [
    {
     "name": "stdout",
     "output_type": "stream",
     "text": [
      "[100, 0]\n"
     ]
    }
   ],
   "source": [
    "## Challenge 11 An ECB/CBC detection oracle\n",
    "\n",
    "# Random is from the Crypto package and generates random bytes that are cryptographically secure\n",
    "# Alternatively, one can use os.urandom() to generate random bytes with the same standars, but \n",
    "# since I already imported module Crypto to use AES, I'm gonna use it\n",
    "# rnd is the python random module. Although not cryptographically secure, it's good for simulations\n",
    "def encryption_oracle(cleartext):\n",
    "    key = Random.get_random_bytes(16);\n",
    "    salt = Random.get_random_bytes(rnd.randint(5,10));\n",
    "    pepper = Random.get_random_bytes(rnd.randint(5,10));\n",
    "    iv = Random.get_random_bytes(16);\n",
    "    \n",
    "    cleartext = salt + cleartext + pepper;\n",
    "    mode = ''\n",
    "    if rnd.randint(1,2) == 2:\n",
    "        cyphertext = cbc_encrypt_manual(cleartext,key,iv);\n",
    "        mode = 'cbc';\n",
    "    else:\n",
    "        algoritmo = AES.new(key,AES.MODE_ECB);\n",
    "        cyphertext = algoritmo.encrypt(pkcs_padding_long(cleartext,16));\n",
    "        mode = 'ecb';\n",
    "    #the oracle return both the cyphertext and the mode cause I can then verify it later\n",
    "    return [cyphertext,mode]\n",
    "\n",
    "def detect_ecb_or_cbc(cyphertext,keysize):\n",
    "    #this is from the challenge 8\n",
    "    if detect_repetitions(cyphertext,keysize)>0:\n",
    "        return 'ecb'\n",
    "    else:\n",
    "        return 'cbc'\n",
    "\n",
    "#test to see if works as intented. Since the text needs to be long I picked an not so random wikipedia article\n",
    "text = open('11.txt','rb').read()\n",
    "sucesses = 0;\n",
    "failures = 0;\n",
    "#I disabled it cause it takes a little time to run and I don't need to run this every time I open the notebook\n",
    "enabled = False\n",
    "if enabled:\n",
    "    for i in range(0,100):\n",
    "        output = encryption_oracle(text)\n",
    "        repetitions = detect_repetitions(output[0],16);\n",
    "        guess = detect_ecb_or_cbc(output[0],16);\n",
    "        if output[1] == guess:\n",
    "            sucesses+=1;\n",
    "        else:\n",
    "            failures+=1;\n",
    "        \n",
    "print([sucesses,failures])"
   ]
  },
  {
   "cell_type": "code",
   "execution_count": null,
   "metadata": {},
   "outputs": [],
   "source": []
  },
  {
   "cell_type": "code",
   "execution_count": null,
   "metadata": {},
   "outputs": [],
   "source": []
  }
 ],
 "metadata": {
  "kernelspec": {
   "display_name": "Python 3",
   "language": "python",
   "name": "python3"
  },
  "language_info": {
   "codemirror_mode": {
    "name": "ipython",
    "version": 3
   },
   "file_extension": ".py",
   "mimetype": "text/x-python",
   "name": "python",
   "nbconvert_exporter": "python",
   "pygments_lexer": "ipython3",
   "version": "3.8.5"
  }
 },
 "nbformat": 4,
 "nbformat_minor": 4
}
