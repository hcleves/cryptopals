{
 "cells": [
  {
   "cell_type": "code",
   "execution_count": 1,
   "metadata": {},
   "outputs": [],
   "source": [
    "import codecs\n",
    "from collections import Counter\n",
    "import string\n",
    "from Crypto.Cipher import AES\n",
    "from Crypto import Random\n",
    "import random as rnd\n",
    "import time\n",
    "import hashlib\n",
    "import requests\n",
    "\n",
    "# those variables are used later in several problems so I just initialize them here.\n",
    "secret_key = Random.get_random_bytes(16)\n",
    "iv_secret = Random.get_random_bytes(16)\n",
    "secret_key_16_bits = Random.get_random_bytes(2)"
   ]
  },
  {
   "cell_type": "markdown",
   "metadata": {},
   "source": [
    "Copied from cryptopals.com\n",
    "## Crypto Challenge Set 1\n",
    "\n",
    "This is the qualifying set. We picked the exercises in it to ramp developers up gradually into coding cryptography, but also to verify that we were working with people who were ready to write code.\n",
    "\n",
    "This set is relatively easy. With one exception, most of these exercises should take only a couple minutes. But don't beat yourself up if it takes longer than that. It took Alex two weeks to get through the set!\n",
    "\n",
    "If you've written any crypto code in the past, you're going to feel like skipping a lot of this. Don't skip them. At least two of them (we won't say which) are important stepping stones to later attacks. "
   ]
  },
  {
   "cell_type": "markdown",
   "metadata": {},
   "source": [
    "\n",
    "## Convert hex to base64\n",
    "\n",
    "The string:\n",
    "```\n",
    "49276d206b696c6c696e6720796f757220627261696e206c696b65206120706f69736f6e6f7573206d757368726f6f6d\n",
    "```\n",
    "Should produce:\n",
    "```\n",
    "SSdtIGtpbGxpbmcgeW91ciBicmFpbiBsaWtlIGEgcG9pc29ub3VzIG11c2hyb29t\n",
    "```\n",
    "So go ahead and make that happen. You'll need to use this code for the rest of the exercises.\n",
    "\n",
    "Cryptopals Rule\n",
    "```\n",
    "Always operate on raw bytes, never on encoded strings. Only use hex and base64 for pretty-printing.\n",
    "```"
   ]
  },
  {
   "cell_type": "code",
   "execution_count": 2,
   "metadata": {},
   "outputs": [
    {
     "data": {
      "text/plain": [
       "True"
      ]
     },
     "execution_count": 2,
     "metadata": {},
     "output_type": "execute_result"
    }
   ],
   "source": [
    "## Challenge 1 convert from hex to base64\n",
    "## This one is pretty straightforward\n",
    "input = \"49276d206b696c6c696e6720796f757220627261696e206c696b65206120706f69736f6e6f7573206d757368726f6f6d\"\n",
    "raw = codecs.decode(input, \"hex\")\n",
    "result = codecs.encode(raw,\"base64\")\n",
    "expected_result = \"SSdtIGtpbGxpbmcgeW91ciBicmFpbiBsaWtlIGEgcG9pc29ub3VzIG11c2hyb29t\"\n",
    "result.strip().decode('ascii') == expected_result"
   ]
  },
  {
   "cell_type": "markdown",
   "metadata": {},
   "source": [
    "\n",
    "## Fixed XOR\n",
    "\n",
    "Write a function that takes two equal-length buffers and produces their XOR combination.\n",
    "\n",
    "If your function works properly, then when you feed it the string:\n",
    "\n",
    "1c0111001f010100061a024b53535009181c\n",
    "\n",
    "... after hex decoding, and when XOR'd against:\n",
    "\n",
    "686974207468652062756c6c277320657965\n",
    "\n",
    "... should produce:\n",
    "\n",
    "746865206b696420646f6e277420706c6179\n",
    "\n"
   ]
  },
  {
   "cell_type": "code",
   "execution_count": 3,
   "metadata": {},
   "outputs": [
    {
     "data": {
      "text/plain": [
       "True"
      ]
     },
     "execution_count": 3,
     "metadata": {},
     "output_type": "execute_result"
    }
   ],
   "source": [
    "## Challenge 2 FIxed XOR\n",
    "input1 = codecs.decode(\"1c0111001f010100061a024b53535009181c\",\"hex\")\n",
    "input2 = codecs.decode(\"686974207468652062756c6c277320657965\",\"hex\")\n",
    "\n",
    "def xor_string(string1,string2):\n",
    "    \"\"\" Receive two bytes strings and return the xor in them\n",
    "        The length of the output is the same as the shortest string\n",
    "    \"\"\"\n",
    "    return bytes(a ^ b for a, b in zip(string1, string2))\n",
    "\n",
    "expected_result = \"746865206b696420646f6e277420706c6179\"\n",
    "\n",
    "codecs.encode(xor_string(input1,input2),\"hex\").strip().decode('ascii') == expected_result"
   ]
  },
  {
   "cell_type": "markdown",
   "metadata": {},
   "source": [
    "## Single-byte XOR cipher\n",
    "\n",
    "The hex encoded string:\n",
    "\n",
    "1b37373331363f78151b7f2b783431333d78397828372d363c78373e783a393b3736\n",
    "\n",
    "... has been XOR'd against a single character. Find the key, decrypt the message.\n",
    "\n",
    "You can do this by hand. But don't: write code to do it for you.\n",
    "\n",
    "How? Devise some method for \"scoring\" a piece of English plaintext. Character frequency is a good metric. Evaluate each output and choose the one with the best score.\n",
    "\n",
    "Achievement Unlocked\n",
    "\n",
    "You now have our permission to make \"ETAOIN SHRDLU\" jokes on Twitter.\n"
   ]
  },
  {
   "cell_type": "code",
   "execution_count": 5,
   "metadata": {},
   "outputs": [
    {
     "data": {
      "text/plain": [
       "b\"Cooking MC's like a pound of bacon\""
      ]
     },
     "execution_count": 5,
     "metadata": {},
     "output_type": "execute_result"
    }
   ],
   "source": [
    "## Challenge 3 xor single byte\n",
    "input1 = codecs.decode(\"1b37373331363f78151b7f2b783431333d78397828372d363c78373e783a393b3736\",\"hex\")\n",
    "\n",
    "#Here I'm using as an score of a piece of English plaintext not the character frequency but rather the fact\n",
    "#that the correct english phrase is more likely to have the most amount of words, this isn't valid in all cases,but worked in this one\n",
    "biggest = 0;\n",
    "biggest_character = '';\n",
    "for character in range(0,128):\n",
    "    output = xor_string(input1,bytes(chr(character)*len(input1),'ascii'))\n",
    "    if len(output.decode('ascii').split(' '))>biggest:\n",
    "        biggest = len(output.decode('ascii').split(' '))\n",
    "        biggest_character = character\n",
    "        \n",
    "output = xor_string(input1,bytes(chr(biggest_character)*len(input1),'ascii'))\n",
    "output"
   ]
  },
  {
   "cell_type": "markdown",
   "metadata": {},
   "source": [
    "## Detect single-character XOR\n",
    "\n",
    "One of the 60-character strings in this file has been encrypted by single-character XOR.\n",
    "\n",
    "Find it.\n",
    "\n",
    "(Your code from #3 should help.)"
   ]
  },
  {
   "cell_type": "code",
   "execution_count": 8,
   "metadata": {},
   "outputs": [
    {
     "name": "stdout",
     "output_type": "stream",
     "text": [
      "b'Now that the party is jumping\\n'\n"
     ]
    }
   ],
   "source": [
    "## Challenge 4 find encoded string in file\n",
    "\n",
    "lines = open('4.txt', 'r').readlines()\n",
    "\n",
    "## I'm gonna use the same logic from the 3rd problem and see the line with the most amont of words\n",
    "longest_line =\"\"\n",
    "global_longest = 0;\n",
    "\n",
    "for line in lines:\n",
    "    line_raw = codecs.decode(line.strip(),'hex')\n",
    "    biggest = 0;\n",
    "    biggest_character = 0;\n",
    "    for character in range(0,128):\n",
    "        output = xor_string(line_raw,bytes(len(line_raw)*chr(character),'ascii'))\n",
    "        flag = False;\n",
    "        for i in output:\n",
    "            if i>=128: # if output is not in ascii then it's not an english sentence\n",
    "                flag = True;\n",
    "        \n",
    "        if flag:\n",
    "            continue\n",
    "        \n",
    "        if len(output.decode('ascii').split(' '))>biggest: ## compare between characters in the line\n",
    "            biggest = len(output.decode('ascii').split(' '))\n",
    "            biggest_character = character;\n",
    "            \n",
    "        if biggest>global_longest: ## compare between all lines\n",
    "            global_longest=biggest;\n",
    "            longest_line = output;\n",
    "\n",
    "print(longest_line)"
   ]
  },
  {
   "cell_type": "code",
   "execution_count": null,
   "metadata": {},
   "outputs": [],
   "source": []
  }
 ],
 "metadata": {
  "kernelspec": {
   "display_name": "Python 3",
   "language": "python",
   "name": "python3"
  },
  "language_info": {
   "codemirror_mode": {
    "name": "ipython",
    "version": 3
   },
   "file_extension": ".py",
   "mimetype": "text/x-python",
   "name": "python",
   "nbconvert_exporter": "python",
   "pygments_lexer": "ipython3",
   "version": "3.8.5"
  }
 },
 "nbformat": 4,
 "nbformat_minor": 4
}
